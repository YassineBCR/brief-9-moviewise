{
 "cells": [
  {
   "cell_type": "code",
   "execution_count": 1,
   "metadata": {},
   "outputs": [],
   "source": [
    "import json\n",
    "import pymongo"
   ]
  },
  {
   "cell_type": "code",
   "execution_count": 2,
   "metadata": {},
   "outputs": [
    {
     "data": {
      "text/plain": [
       "{'nIndexesWas': 1, 'ns': 'data_movies.users', 'ok': 1.0}"
      ]
     },
     "execution_count": 2,
     "metadata": {},
     "output_type": "execute_result"
    }
   ],
   "source": [
    "mongo_uri = \"mongodb://localhost:27017/\"\n",
    "client = pymongo.MongoClient(mongo_uri)\n",
    "db = client[\"data_movies\"]\n",
    "\n",
    "db.drop_collection('movies')\n",
    "db.drop_collection('users')"
   ]
  },
  {
   "cell_type": "code",
   "execution_count": 3,
   "metadata": {},
   "outputs": [],
   "source": [
    "db.create_collection('movies')\n",
    "movies = db[\"movies\"]\n",
    "with open('movielens_movies.json', 'r') as mv:\n",
    "    for line in mv.readlines():\n",
    "        movies.insert_one(json.loads(line))\n",
    "\n",
    "db.create_collection('users')\n",
    "users = db[\"users\"]\n",
    "with open('movielens_users.json', 'r') as us:\n",
    "    for line in us.readlines():\n",
    "        users.insert_one(json.loads(line))"
   ]
  },
  {
   "cell_type": "code",
   "execution_count": 4,
   "metadata": {},
   "outputs": [
    {
     "ename": "AttributeError",
     "evalue": "'Cursor' object has no attribute 'count'",
     "output_type": "error",
     "traceback": [
      "\u001b[1;31m---------------------------------------------------------------------------\u001b[0m",
      "\u001b[1;31mAttributeError\u001b[0m                            Traceback (most recent call last)",
      "Cell \u001b[1;32mIn[4], line 5\u001b[0m\n\u001b[0;32m      2\u001b[0m horror_movies \u001b[38;5;241m=\u001b[39m movies\u001b[38;5;241m.\u001b[39mfind({\u001b[38;5;124m\"\u001b[39m\u001b[38;5;124mgenres\u001b[39m\u001b[38;5;124m\"\u001b[39m: {\u001b[38;5;124m\"\u001b[39m\u001b[38;5;124m$regex\u001b[39m\u001b[38;5;124m\"\u001b[39m: \u001b[38;5;124m\"\u001b[39m\u001b[38;5;124mHorror\u001b[39m\u001b[38;5;124m\"\u001b[39m}})\n\u001b[0;32m      4\u001b[0m \u001b[38;5;66;03m# Compter le nombre de films de la catégorie \"Horror\"\u001b[39;00m\n\u001b[1;32m----> 5\u001b[0m horror_count \u001b[38;5;241m=\u001b[39m horror_movies\u001b[38;5;241m.\u001b[39mcount()\n\u001b[0;32m      7\u001b[0m \u001b[38;5;66;03m# Afficher les films de la catégorie \"Horror\" avec leur nombre\u001b[39;00m\n\u001b[0;32m      8\u001b[0m \u001b[38;5;28mprint\u001b[39m(\u001b[38;5;124mf\u001b[39m\u001b[38;5;124m\"\u001b[39m\u001b[38;5;124mFilms de la catégorie Horror (\u001b[39m\u001b[38;5;132;01m{\u001b[39;00mhorror_count\u001b[38;5;132;01m}\u001b[39;00m\u001b[38;5;124m films) :\u001b[39m\u001b[38;5;124m\"\u001b[39m)\n",
      "\u001b[1;31mAttributeError\u001b[0m: 'Cursor' object has no attribute 'count'"
     ]
    }
   ],
   "source": [
    "# Récupérer tous les films de la catégorie \"Horror\"\n",
    "horror_movies = movies.find({\"genres\": {\"$regex\": \"Horror\"}})\n",
    "\n",
    "# Compter le nombre de films de la catégorie \"Horror\"\n",
    "horror_count = horror_movies.count()\n",
    "\n",
    "# Afficher les films de la catégorie \"Horror\" avec leur nombre\n",
    "print(f\"Films de la catégorie Horror ({horror_count} films) :\")\n",
    "for movie in horror_movies:\n",
    "    print(movie[\"title\"])\n",
    "\n",
    "# Récupérer tous les films de la catégorie \"Children\"\n",
    "children_movies = movies.find({\"genres\": {\"$regex\": \"Children\"}})\n",
    "\n",
    "# Compter le nombre de films de la catégorie \"Children\"\n",
    "children_count = children_movies.count()\n",
    "\n",
    "# Afficher les films de la catégorie \"Children\" avec leur nombre\n",
    "print(f\"\\nFilms de la catégorie Children ({children_count} films) :\")\n",
    "for movie in children_movies:\n",
    "    print(movie[\"title\"])"
   ]
  }
 ],
 "metadata": {
  "kernelspec": {
   "display_name": "base",
   "language": "python",
   "name": "python3"
  },
  "language_info": {
   "codemirror_mode": {
    "name": "ipython",
    "version": 3
   },
   "file_extension": ".py",
   "mimetype": "text/x-python",
   "name": "python",
   "nbconvert_exporter": "python",
   "pygments_lexer": "ipython3",
   "version": "3.11.5"
  }
 },
 "nbformat": 4,
 "nbformat_minor": 2
}
